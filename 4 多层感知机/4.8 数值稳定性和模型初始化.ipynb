{
 "cells": [
  {
   "cell_type": "markdown",
   "source": [
    "sigmoid激活函数在使用过程中可能会出现梯度消失的问题，用relu则不会\n",
    "\n",
    "为了打破对称性，需要对参数进行初始化。pytorch框架默认对w和b都进行了初始化，是(0,1)的均匀分布。还有Xavier初始化等方法"
   ],
   "metadata": {
    "collapsed": false
   },
   "id": "be006d469ca62a90"
  },
  {
   "cell_type": "code",
   "outputs": [],
   "source": [],
   "metadata": {
    "collapsed": false
   },
   "id": "4bc4e66bdb812fc3"
  }
 ],
 "metadata": {
  "kernelspec": {
   "display_name": "Python 3",
   "language": "python",
   "name": "python3"
  },
  "language_info": {
   "codemirror_mode": {
    "name": "ipython",
    "version": 2
   },
   "file_extension": ".py",
   "mimetype": "text/x-python",
   "name": "python",
   "nbconvert_exporter": "python",
   "pygments_lexer": "ipython2",
   "version": "2.7.6"
  }
 },
 "nbformat": 4,
 "nbformat_minor": 5
}
