{
 "cells": [
  {
   "cell_type": "markdown",
   "source": [
    "线性回归整体实现步骤：\n",
    "\n",
    "1. 生成数据集\n",
    "2. 用dataloader读取数据，同时打乱顺序\n",
    "3. 用iter构造python迭代器，用next从迭代器中获取第一项（这里也可以使用batch进行批量读取）\n",
    "4. 定义神经网络\n",
    "5. 定义损失函数\n",
    "6. 定义优化算法\n",
    "7. 训练，包括前向传播、反向传播、更新参数三步骤\n",
    "8. 输出误差"
   ],
   "metadata": {
    "collapsed": false
   },
   "id": "959081ca2cb384d6"
  },
  {
   "cell_type": "code",
   "execution_count": 1,
   "id": "initial_id",
   "metadata": {
    "collapsed": true,
    "ExecuteTime": {
     "end_time": "2024-04-21T13:19:05.000441Z",
     "start_time": "2024-04-21T13:19:03.611455Z"
    }
   },
   "outputs": [],
   "source": [
    "import numpy as np\n",
    "import torch\n",
    "from torch.utils import data\n",
    "from d2l import torch as d2l\n",
    "\n",
    "true_w = torch.tensor([2, -3.4])\n",
    "true_b = 4.2\n",
    "features, labels = d2l.synthetic_data(true_w, true_b, 1000)"
   ]
  },
  {
   "cell_type": "code",
   "outputs": [],
   "source": [
    "def load_array(data_arrays, batch_size, is_train=True):  #@save\n",
    "    \"\"\"构造一个PyTorch数据迭代器\"\"\"\n",
    "    dataset = data.TensorDataset(*data_arrays)\n",
    "    return data.DataLoader(dataset, batch_size, shuffle=is_train)\n",
    "\n",
    "batch_size = 10\n",
    "data_iter = load_array((features, labels), batch_size)"
   ],
   "metadata": {
    "collapsed": false,
    "ExecuteTime": {
     "end_time": "2024-04-21T13:19:13.478574Z",
     "start_time": "2024-04-21T13:19:13.471705Z"
    }
   },
   "id": "1816ab984e083b99",
   "execution_count": 2
  },
  {
   "cell_type": "code",
   "outputs": [
    {
     "data": {
      "text/plain": "[tensor([[ 0.4272,  1.8039],\n         [-0.3670,  2.2096],\n         [-0.4712,  1.2598],\n         [-0.4849, -0.7443],\n         [-0.2421,  0.5400],\n         [ 0.8013,  1.2085],\n         [ 0.4275,  0.3910],\n         [-1.6609, -1.3828],\n         [ 0.1395, -0.3381],\n         [-0.3693, -0.8970]]),\n tensor([[-1.0602],\n         [-4.0561],\n         [-1.0326],\n         [ 5.7546],\n         [ 1.8812],\n         [ 1.7134],\n         [ 3.7228],\n         [ 5.5748],\n         [ 5.6357],\n         [ 6.5028]])]"
     },
     "execution_count": 3,
     "metadata": {},
     "output_type": "execute_result"
    }
   ],
   "source": [
    "next(iter(data_iter))"
   ],
   "metadata": {
    "collapsed": false,
    "ExecuteTime": {
     "end_time": "2024-04-21T13:19:25.215794Z",
     "start_time": "2024-04-21T13:19:25.198614Z"
    }
   },
   "id": "6c41ce5f5cd1cd47",
   "execution_count": 3
  },
  {
   "cell_type": "code",
   "outputs": [],
   "source": [
    "# nn是神经网络的缩写\n",
    "from torch import nn\n",
    "\n",
    "net = nn.Sequential(nn.Linear(2, 1))"
   ],
   "metadata": {
    "collapsed": false,
    "ExecuteTime": {
     "end_time": "2024-04-21T13:19:27.146459Z",
     "start_time": "2024-04-21T13:19:27.141550Z"
    }
   },
   "id": "78ebefce159f46d7",
   "execution_count": 4
  },
  {
   "cell_type": "code",
   "outputs": [
    {
     "data": {
      "text/plain": "tensor([0.])"
     },
     "execution_count": 5,
     "metadata": {},
     "output_type": "execute_result"
    }
   ],
   "source": [
    "net[0].weight.data.normal_(0, 0.01)\n",
    "net[0].bias.data.fill_(0)"
   ],
   "metadata": {
    "collapsed": false,
    "ExecuteTime": {
     "end_time": "2024-04-21T13:19:32.312116Z",
     "start_time": "2024-04-21T13:19:32.295694Z"
    }
   },
   "id": "def6c97e77520e7a",
   "execution_count": 5
  },
  {
   "cell_type": "code",
   "outputs": [],
   "source": [
    "loss = nn.MSELoss()"
   ],
   "metadata": {
    "collapsed": false,
    "ExecuteTime": {
     "end_time": "2024-04-21T13:19:37.852618Z",
     "start_time": "2024-04-21T13:19:37.848304Z"
    }
   },
   "id": "95854e1b218a2e57",
   "execution_count": 6
  },
  {
   "cell_type": "code",
   "outputs": [],
   "source": [
    "trainer = torch.optim.SGD(net.parameters(), lr=0.03)"
   ],
   "metadata": {
    "collapsed": false,
    "ExecuteTime": {
     "end_time": "2024-04-21T13:19:42.500095Z",
     "start_time": "2024-04-21T13:19:42.496399Z"
    }
   },
   "id": "6d779ebbb83094d5",
   "execution_count": 7
  },
  {
   "cell_type": "code",
   "outputs": [
    {
     "name": "stdout",
     "output_type": "stream",
     "text": [
      "epoch 1, loss 0.000411\n",
      "epoch 2, loss 0.000097\n",
      "epoch 3, loss 0.000096\n"
     ]
    }
   ],
   "source": [
    "num_epochs = 3\n",
    "for epoch in range(num_epochs):\n",
    "    for X, y in data_iter:\n",
    "        l = loss(net(X) ,y)\n",
    "        trainer.zero_grad()\n",
    "        l.backward()\n",
    "        trainer.step()\n",
    "    l = loss(net(features), labels)\n",
    "    print(f'epoch {epoch + 1}, loss {l:f}')"
   ],
   "metadata": {
    "collapsed": false,
    "ExecuteTime": {
     "end_time": "2024-04-21T13:19:46.795968Z",
     "start_time": "2024-04-21T13:19:46.687731Z"
    }
   },
   "id": "1b6e2b9927e2d2ba",
   "execution_count": 8
  },
  {
   "cell_type": "code",
   "outputs": [
    {
     "name": "stdout",
     "output_type": "stream",
     "text": [
      "w的估计误差： tensor([-0.0003, -0.0003])\n",
      "b的估计误差： tensor([-0.0007])\n"
     ]
    }
   ],
   "source": [
    "w = net[0].weight.data\n",
    "print('w的估计误差：', true_w - w.reshape(true_w.shape))\n",
    "b = net[0].bias.data\n",
    "print('b的估计误差：', true_b - b)"
   ],
   "metadata": {
    "collapsed": false,
    "ExecuteTime": {
     "end_time": "2024-04-21T13:19:52.729036Z",
     "start_time": "2024-04-21T13:19:52.721760Z"
    }
   },
   "id": "28add77806fd78f6",
   "execution_count": 9
  },
  {
   "cell_type": "code",
   "outputs": [],
   "source": [],
   "metadata": {
    "collapsed": false
   },
   "id": "9ab02aa5c9ee37d7"
  }
 ],
 "metadata": {
  "kernelspec": {
   "display_name": "Python 3",
   "language": "python",
   "name": "python3"
  },
  "language_info": {
   "codemirror_mode": {
    "name": "ipython",
    "version": 2
   },
   "file_extension": ".py",
   "mimetype": "text/x-python",
   "name": "python",
   "nbconvert_exporter": "python",
   "pygments_lexer": "ipython2",
   "version": "2.7.6"
  }
 },
 "nbformat": 4,
 "nbformat_minor": 5
}
