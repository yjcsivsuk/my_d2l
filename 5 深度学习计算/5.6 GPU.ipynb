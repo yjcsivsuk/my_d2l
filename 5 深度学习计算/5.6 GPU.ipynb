{
 "cells": [
  {
   "cell_type": "markdown",
   "source": [
    "mac m1的cuda是mps"
   ],
   "metadata": {
    "collapsed": false
   },
   "id": "2b17a5d4157c3fd7"
  },
  {
   "cell_type": "code",
   "execution_count": 8,
   "id": "initial_id",
   "metadata": {
    "collapsed": true,
    "ExecuteTime": {
     "end_time": "2024-04-26T15:14:49.289727Z",
     "start_time": "2024-04-26T15:14:49.286902Z"
    }
   },
   "outputs": [],
   "source": [
    "import time\n",
    "import torch\n",
    "from d2l import torch as d2l"
   ]
  },
  {
   "cell_type": "code",
   "outputs": [
    {
     "data": {
      "text/plain": "True"
     },
     "execution_count": 2,
     "metadata": {},
     "output_type": "execute_result"
    }
   ],
   "source": [
    "torch.has_mps"
   ],
   "metadata": {
    "collapsed": false,
    "ExecuteTime": {
     "end_time": "2024-04-26T15:07:26.680798Z",
     "start_time": "2024-04-26T15:07:26.672906Z"
    }
   },
   "id": "ca70d9dc63fccfc6",
   "execution_count": 2
  },
  {
   "cell_type": "code",
   "outputs": [
    {
     "data": {
      "text/plain": "True"
     },
     "execution_count": 3,
     "metadata": {},
     "output_type": "execute_result"
    }
   ],
   "source": [
    "torch.backends.mps.is_available()"
   ],
   "metadata": {
    "collapsed": false,
    "ExecuteTime": {
     "end_time": "2024-04-26T15:07:27.444514Z",
     "start_time": "2024-04-26T15:07:27.418016Z"
    }
   },
   "id": "5b8938228214bceb",
   "execution_count": 3
  },
  {
   "cell_type": "code",
   "outputs": [
    {
     "data": {
      "text/plain": "True"
     },
     "execution_count": 4,
     "metadata": {},
     "output_type": "execute_result"
    }
   ],
   "source": [
    "torch.backends.mps.is_built()"
   ],
   "metadata": {
    "collapsed": false,
    "ExecuteTime": {
     "end_time": "2024-04-26T15:07:27.920330Z",
     "start_time": "2024-04-26T15:07:27.917175Z"
    }
   },
   "id": "4812a7500835136e",
   "execution_count": 4
  },
  {
   "cell_type": "code",
   "outputs": [],
   "source": [
    "device=torch.device(\"mps\" if torch.has_mps else \"cpu\")"
   ],
   "metadata": {
    "collapsed": false,
    "ExecuteTime": {
     "end_time": "2024-04-26T15:09:52.770732Z",
     "start_time": "2024-04-26T15:09:52.767319Z"
    }
   },
   "id": "26ccf1a3e87bac1e",
   "execution_count": 5
  },
  {
   "cell_type": "code",
   "outputs": [
    {
     "name": "stdout",
     "output_type": "stream",
     "text": [
      "cpu计算总时长: 58.05 ms\n",
      "gpu计算总时长: 143.12 ms\n"
     ]
    }
   ],
   "source": [
    "startTime1=time.time()\n",
    "for i in range(100):\n",
    "    A = torch.ones(500,500)\n",
    "    B = torch.ones(500,500)\n",
    "    C = torch.matmul(A,B)\n",
    "endTime1=time.time()\n",
    "\n",
    "startTime2=time.time()\n",
    "for i in range(100):\n",
    "    A = torch.ones(500,500,device=\"mps\")\n",
    "    B = torch.ones(500,500,device=\"mps\")\n",
    "    C = torch.matmul(A,B)\n",
    "endTime2=time.time()\n",
    "\n",
    "print('cpu计算总时长:', round((endTime1 - startTime1)*1000, 2),'ms')\n",
    "print('gpu计算总时长:', round((endTime2 - startTime2)*1000, 2),'ms')"
   ],
   "metadata": {
    "collapsed": false,
    "ExecuteTime": {
     "end_time": "2024-04-26T15:14:51.332529Z",
     "start_time": "2024-04-26T15:14:51.126887Z"
    }
   },
   "id": "20f7e115df8c01ca",
   "execution_count": 9
  },
  {
   "cell_type": "code",
   "outputs": [],
   "source": [],
   "metadata": {
    "collapsed": false
   },
   "id": "e96987f99506ca3e"
  }
 ],
 "metadata": {
  "kernelspec": {
   "display_name": "Python 3",
   "language": "python",
   "name": "python3"
  },
  "language_info": {
   "codemirror_mode": {
    "name": "ipython",
    "version": 2
   },
   "file_extension": ".py",
   "mimetype": "text/x-python",
   "name": "python",
   "nbconvert_exporter": "python",
   "pygments_lexer": "ipython2",
   "version": "2.7.6"
  }
 },
 "nbformat": 4,
 "nbformat_minor": 5
}
