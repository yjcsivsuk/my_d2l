{
 "cells": [
  {
   "cell_type": "code",
   "execution_count": 1,
   "id": "initial_id",
   "metadata": {
    "collapsed": true,
    "ExecuteTime": {
     "end_time": "2024-04-26T14:10:05.248032Z",
     "start_time": "2024-04-26T14:10:04.645607Z"
    }
   },
   "outputs": [
    {
     "data": {
      "text/plain": "tensor([[ 0.0139],\n        [-0.0007]], grad_fn=<AddmmBackward0>)"
     },
     "execution_count": 1,
     "metadata": {},
     "output_type": "execute_result"
    }
   ],
   "source": [
    "import torch\n",
    "from torch import nn\n",
    "\n",
    "net = nn.Sequential(nn.Linear(4, 8), nn.ReLU(), nn.Linear(8, 1))\n",
    "X = torch.rand(size=(2, 4))\n",
    "net(X)"
   ]
  },
  {
   "cell_type": "code",
   "outputs": [
    {
     "data": {
      "text/plain": "OrderedDict([('0.weight',\n              tensor([[ 0.2216,  0.3265,  0.1412,  0.3516],\n                      [-0.3525,  0.3829, -0.2661, -0.3142],\n                      [ 0.2388, -0.0058, -0.1823,  0.1125],\n                      [ 0.2487,  0.2992,  0.2207,  0.2781],\n                      [ 0.3993,  0.2927, -0.3483,  0.4125],\n                      [ 0.4552, -0.2721, -0.2813, -0.2578],\n                      [-0.3861,  0.1351, -0.0594, -0.4489],\n                      [ 0.0987,  0.2688,  0.1397,  0.3739]])),\n             ('0.bias',\n              tensor([-0.4767,  0.4710, -0.1095,  0.0568,  0.1350,  0.0746, -0.3600, -0.0675])),\n             ('2.weight',\n              tensor([[ 0.1536, -0.1802,  0.3496, -0.0966,  0.3245,  0.1018, -0.2024, -0.1008]])),\n             ('2.bias', tensor([0.0393]))])"
     },
     "execution_count": 15,
     "metadata": {},
     "output_type": "execute_result"
    }
   ],
   "source": [
    "net.state_dict()"
   ],
   "metadata": {
    "collapsed": false,
    "ExecuteTime": {
     "end_time": "2024-04-26T14:16:20.762995Z",
     "start_time": "2024-04-26T14:16:20.756759Z"
    }
   },
   "id": "1bc70ff839aa1620",
   "execution_count": 15
  },
  {
   "cell_type": "code",
   "outputs": [
    {
     "data": {
      "text/plain": "(OrderedDict([('weight',\n               tensor([[ 0.2216,  0.3265,  0.1412,  0.3516],\n                       [-0.3525,  0.3829, -0.2661, -0.3142],\n                       [ 0.2388, -0.0058, -0.1823,  0.1125],\n                       [ 0.2487,  0.2992,  0.2207,  0.2781],\n                       [ 0.3993,  0.2927, -0.3483,  0.4125],\n                       [ 0.4552, -0.2721, -0.2813, -0.2578],\n                       [-0.3861,  0.1351, -0.0594, -0.4489],\n                       [ 0.0987,  0.2688,  0.1397,  0.3739]])),\n              ('bias',\n               tensor([-0.4767,  0.4710, -0.1095,  0.0568,  0.1350,  0.0746, -0.3600, -0.0675]))]),\n OrderedDict([('weight',\n               tensor([[ 0.1536, -0.1802,  0.3496, -0.0966,  0.3245,  0.1018, -0.2024, -0.1008]])),\n              ('bias', tensor([0.0393]))]))"
     },
     "execution_count": 5,
     "metadata": {},
     "output_type": "execute_result"
    }
   ],
   "source": [
    "net[0].state_dict(), net[2].state_dict()"
   ],
   "metadata": {
    "collapsed": false,
    "ExecuteTime": {
     "end_time": "2024-04-26T14:11:28.293094Z",
     "start_time": "2024-04-26T14:11:28.285676Z"
    }
   },
   "id": "313d7be6dc0da735",
   "execution_count": 5
  },
  {
   "cell_type": "code",
   "outputs": [
    {
     "data": {
      "text/plain": "torch.nn.parameter.Parameter"
     },
     "execution_count": 8,
     "metadata": {},
     "output_type": "execute_result"
    }
   ],
   "source": [
    "type(net[2].bias)"
   ],
   "metadata": {
    "collapsed": false,
    "ExecuteTime": {
     "end_time": "2024-04-26T14:13:29.135710Z",
     "start_time": "2024-04-26T14:13:29.131337Z"
    }
   },
   "id": "bffe6d2b0424f086",
   "execution_count": 8
  },
  {
   "cell_type": "code",
   "outputs": [
    {
     "data": {
      "text/plain": "(Parameter containing:\n tensor([0.0393], requires_grad=True),\n tensor([0.0393]))"
     },
     "execution_count": 9,
     "metadata": {},
     "output_type": "execute_result"
    }
   ],
   "source": [
    "net[2].bias, net[2].bias.data"
   ],
   "metadata": {
    "collapsed": false,
    "ExecuteTime": {
     "end_time": "2024-04-26T14:13:49.365264Z",
     "start_time": "2024-04-26T14:13:49.360248Z"
    }
   },
   "id": "8151b27b555f5b8c",
   "execution_count": 9
  },
  {
   "cell_type": "code",
   "outputs": [
    {
     "data": {
      "text/plain": "NoneType"
     },
     "execution_count": 11,
     "metadata": {},
     "output_type": "execute_result"
    }
   ],
   "source": [
    "type(net[2].weight.grad)"
   ],
   "metadata": {
    "collapsed": false,
    "ExecuteTime": {
     "end_time": "2024-04-26T14:14:16.854610Z",
     "start_time": "2024-04-26T14:14:16.849187Z"
    }
   },
   "id": "1136362626985480",
   "execution_count": 11
  },
  {
   "cell_type": "code",
   "outputs": [
    {
     "name": "stdout",
     "output_type": "stream",
     "text": [
      "('weight', torch.Size([8, 4])) ('bias', torch.Size([8]))\n"
     ]
    }
   ],
   "source": [
    "print(*[(name, param.shape) for name, param in net[0].named_parameters()])"
   ],
   "metadata": {
    "collapsed": false,
    "ExecuteTime": {
     "end_time": "2024-04-26T14:15:12.063887Z",
     "start_time": "2024-04-26T14:15:12.057562Z"
    }
   },
   "id": "22b5b09ad5a0a64c",
   "execution_count": 12
  },
  {
   "cell_type": "code",
   "outputs": [
    {
     "name": "stdout",
     "output_type": "stream",
     "text": [
      "('0.weight', torch.Size([8, 4])) ('0.bias', torch.Size([8])) ('2.weight', torch.Size([1, 8])) ('2.bias', torch.Size([1]))\n"
     ]
    }
   ],
   "source": [
    "print(*[(name, param.shape) for name, param in net.named_parameters()])"
   ],
   "metadata": {
    "collapsed": false,
    "ExecuteTime": {
     "end_time": "2024-04-26T14:15:50.803975Z",
     "start_time": "2024-04-26T14:15:50.800726Z"
    }
   },
   "id": "3632185ca90fd5",
   "execution_count": 13
  },
  {
   "cell_type": "code",
   "outputs": [
    {
     "data": {
      "text/plain": "tensor([0.0393])"
     },
     "execution_count": 14,
     "metadata": {},
     "output_type": "execute_result"
    }
   ],
   "source": [
    "net.state_dict()['2.bias'].data"
   ],
   "metadata": {
    "collapsed": false,
    "ExecuteTime": {
     "end_time": "2024-04-26T14:16:04.820394Z",
     "start_time": "2024-04-26T14:16:04.814431Z"
    }
   },
   "id": "ad2bfcd2b41a0b8c",
   "execution_count": 14
  },
  {
   "cell_type": "code",
   "outputs": [
    {
     "data": {
      "text/plain": "tensor([[0.4933],\n        [0.4933]], grad_fn=<AddmmBackward0>)"
     },
     "execution_count": 16,
     "metadata": {},
     "output_type": "execute_result"
    }
   ],
   "source": [
    "def block1():\n",
    "    return nn.Sequential(nn.Linear(4, 8), nn.ReLU(),\n",
    "                         nn.Linear(8, 4), nn.ReLU())\n",
    "\n",
    "def block2():\n",
    "    net = nn.Sequential()\n",
    "    for i in range(4):\n",
    "        # 在这里嵌套\n",
    "        net.add_module(f'block {i}', block1())\n",
    "    return net\n",
    "\n",
    "rgnet = nn.Sequential(block2(), nn.Linear(4, 1))\n",
    "rgnet(X)"
   ],
   "metadata": {
    "collapsed": false,
    "ExecuteTime": {
     "end_time": "2024-04-26T14:17:27.253599Z",
     "start_time": "2024-04-26T14:17:27.241928Z"
    }
   },
   "id": "7abdf39b72dc2094",
   "execution_count": 16
  },
  {
   "cell_type": "code",
   "outputs": [
    {
     "name": "stdout",
     "output_type": "stream",
     "text": [
      "Sequential(\n",
      "  (0): Sequential(\n",
      "    (block 0): Sequential(\n",
      "      (0): Linear(in_features=4, out_features=8, bias=True)\n",
      "      (1): ReLU()\n",
      "      (2): Linear(in_features=8, out_features=4, bias=True)\n",
      "      (3): ReLU()\n",
      "    )\n",
      "    (block 1): Sequential(\n",
      "      (0): Linear(in_features=4, out_features=8, bias=True)\n",
      "      (1): ReLU()\n",
      "      (2): Linear(in_features=8, out_features=4, bias=True)\n",
      "      (3): ReLU()\n",
      "    )\n",
      "    (block 2): Sequential(\n",
      "      (0): Linear(in_features=4, out_features=8, bias=True)\n",
      "      (1): ReLU()\n",
      "      (2): Linear(in_features=8, out_features=4, bias=True)\n",
      "      (3): ReLU()\n",
      "    )\n",
      "    (block 3): Sequential(\n",
      "      (0): Linear(in_features=4, out_features=8, bias=True)\n",
      "      (1): ReLU()\n",
      "      (2): Linear(in_features=8, out_features=4, bias=True)\n",
      "      (3): ReLU()\n",
      "    )\n",
      "  )\n",
      "  (1): Linear(in_features=4, out_features=1, bias=True)\n",
      ")\n"
     ]
    }
   ],
   "source": [
    "print(rgnet)"
   ],
   "metadata": {
    "collapsed": false,
    "ExecuteTime": {
     "end_time": "2024-04-26T14:17:33.152860Z",
     "start_time": "2024-04-26T14:17:33.148591Z"
    }
   },
   "id": "a84c4a11bdcd98c1",
   "execution_count": 17
  },
  {
   "cell_type": "code",
   "outputs": [
    {
     "data": {
      "text/plain": "OrderedDict([('0.block 0.0.weight',\n              tensor([[-0.2623, -0.2728,  0.3414, -0.2960],\n                      [ 0.2970,  0.0123,  0.3117, -0.1636],\n                      [-0.4141,  0.4542,  0.0652, -0.3922],\n                      [ 0.2934,  0.3611, -0.3066, -0.1822],\n                      [ 0.0828,  0.1259, -0.4821, -0.3836],\n                      [ 0.4870,  0.4986, -0.0606, -0.1171],\n                      [-0.0689,  0.0359, -0.3333,  0.2903],\n                      [ 0.4719,  0.0272,  0.0932, -0.2046]])),\n             ('0.block 0.0.bias',\n              tensor([ 0.4610,  0.2921, -0.1457, -0.3237, -0.2987,  0.2898,  0.2954,  0.2206])),\n             ('0.block 0.2.weight',\n              tensor([[ 0.2650,  0.0945, -0.3423, -0.0866,  0.3205, -0.0406, -0.2645, -0.2238],\n                      [-0.1642,  0.2953, -0.0012,  0.1344,  0.3211,  0.1662, -0.1640,  0.1403],\n                      [-0.2716,  0.0441, -0.2046,  0.0907,  0.2011,  0.0404,  0.1750, -0.0143],\n                      [ 0.0540,  0.0770,  0.0027,  0.1203,  0.1388, -0.1033, -0.1821,  0.3077]])),\n             ('0.block 0.2.bias',\n              tensor([ 0.1320, -0.2455,  0.0269,  0.0686])),\n             ('0.block 1.0.weight',\n              tensor([[ 0.2637,  0.4351, -0.4157,  0.0514],\n                      [-0.2331,  0.0728,  0.4587, -0.4771],\n                      [ 0.0120,  0.1934,  0.4373,  0.3249],\n                      [-0.4699, -0.3354,  0.4587,  0.3538],\n                      [ 0.0723,  0.0885,  0.4512,  0.4382],\n                      [-0.2691,  0.2961, -0.3041, -0.2031],\n                      [ 0.2339,  0.3284,  0.1108, -0.2750],\n                      [-0.2528,  0.3512,  0.0694,  0.0352]])),\n             ('0.block 1.0.bias',\n              tensor([-0.4143, -0.1830,  0.0185, -0.0303,  0.0978, -0.4395,  0.4984,  0.3374])),\n             ('0.block 1.2.weight',\n              tensor([[-0.1358,  0.2823,  0.3373,  0.0909, -0.2219,  0.1998, -0.0309, -0.1856],\n                      [-0.2390, -0.1525, -0.1127, -0.3194, -0.0405, -0.1408,  0.1985, -0.0158],\n                      [ 0.3385, -0.3325,  0.2757, -0.0072,  0.0694,  0.0892,  0.1830, -0.1182],\n                      [-0.0907,  0.1590, -0.2851,  0.1768,  0.2149, -0.0874, -0.2405, -0.0772]])),\n             ('0.block 1.2.bias',\n              tensor([ 0.1742, -0.1352,  0.2645,  0.1239])),\n             ('0.block 2.0.weight',\n              tensor([[-0.4893,  0.1577,  0.1637, -0.2595],\n                      [-0.4872,  0.4614,  0.0916,  0.2281],\n                      [ 0.4732, -0.2302,  0.0437, -0.1757],\n                      [-0.3373,  0.0788,  0.0155, -0.2353],\n                      [ 0.4362,  0.3722, -0.3584, -0.1306],\n                      [ 0.2804, -0.3686, -0.4817, -0.3376],\n                      [ 0.0672, -0.0554, -0.2521, -0.1597],\n                      [-0.3154,  0.2787, -0.0486, -0.4551]])),\n             ('0.block 2.0.bias',\n              tensor([ 0.0928,  0.3643,  0.2247,  0.3303,  0.0508, -0.4426, -0.1462,  0.0832])),\n             ('0.block 2.2.weight',\n              tensor([[ 0.3430,  0.2687, -0.0774, -0.1409,  0.1169,  0.0188,  0.2109,  0.2545],\n                      [ 0.1053,  0.0655,  0.2242, -0.3272,  0.1735, -0.2723,  0.1711, -0.0749],\n                      [-0.1512, -0.3068, -0.1913,  0.0644,  0.1427, -0.0905, -0.2053,  0.1549],\n                      [-0.2723, -0.1066,  0.0182, -0.0420, -0.0972, -0.2497,  0.2386, -0.0166]])),\n             ('0.block 2.2.bias',\n              tensor([-0.0889, -0.2125, -0.0223,  0.0437])),\n             ('0.block 3.0.weight',\n              tensor([[ 0.0910, -0.0088, -0.2197, -0.1984],\n                      [ 0.0346,  0.4737, -0.0014,  0.1155],\n                      [ 0.1407,  0.0326, -0.0986,  0.4954],\n                      [ 0.0661, -0.0700,  0.3560,  0.1040],\n                      [-0.2542,  0.4062,  0.0075,  0.3539],\n                      [-0.1241, -0.1619,  0.1355, -0.1714],\n                      [ 0.2485,  0.0923, -0.2000, -0.1780],\n                      [ 0.1414, -0.0357,  0.3094, -0.1178]])),\n             ('0.block 3.0.bias',\n              tensor([-0.0176, -0.0762,  0.0923, -0.4009,  0.3332,  0.0133,  0.2804, -0.4210])),\n             ('0.block 3.2.weight',\n              tensor([[-0.0484, -0.1914, -0.1915,  0.0831, -0.2044, -0.1194, -0.2154,  0.2565],\n                      [ 0.0739,  0.0166, -0.3092, -0.1482,  0.1469,  0.0213, -0.2673, -0.0843],\n                      [-0.1978,  0.0074,  0.3220,  0.2386,  0.1180,  0.1530, -0.1790, -0.0280],\n                      [-0.2177, -0.0416, -0.1557, -0.0009,  0.3012, -0.1344, -0.3529,  0.2485]])),\n             ('0.block 3.2.bias',\n              tensor([-0.0265,  0.3227,  0.1020, -0.1590])),\n             ('1.weight', tensor([[ 0.0964,  0.2373, -0.1478,  0.4541]])),\n             ('1.bias', tensor([0.4478]))])"
     },
     "execution_count": 20,
     "metadata": {},
     "output_type": "execute_result"
    }
   ],
   "source": [
    "rgnet.state_dict()"
   ],
   "metadata": {
    "collapsed": false,
    "ExecuteTime": {
     "end_time": "2024-04-26T14:19:45.416177Z",
     "start_time": "2024-04-26T14:19:45.405278Z"
    }
   },
   "id": "acdca50595e2aa8f",
   "execution_count": 20
  },
  {
   "cell_type": "markdown",
   "source": [
    "可以像访问数组一样访问嵌套的网络模块"
   ],
   "metadata": {
    "collapsed": false
   },
   "id": "54a82e026f0f1f82"
  },
  {
   "cell_type": "code",
   "outputs": [
    {
     "data": {
      "text/plain": "tensor([-0.4143, -0.1830,  0.0185, -0.0303,  0.0978, -0.4395,  0.4984,  0.3374])"
     },
     "execution_count": 21,
     "metadata": {},
     "output_type": "execute_result"
    }
   ],
   "source": [
    "rgnet[0][1][0].bias.data"
   ],
   "metadata": {
    "collapsed": false,
    "ExecuteTime": {
     "end_time": "2024-04-26T14:19:51.971279Z",
     "start_time": "2024-04-26T14:19:51.965825Z"
    }
   },
   "id": "d0f49ec1a846e6d8",
   "execution_count": 21
  },
  {
   "cell_type": "markdown",
   "source": [
    "参数绑定（参数共享）"
   ],
   "metadata": {
    "collapsed": false
   },
   "id": "4006965d27247ebd"
  },
  {
   "cell_type": "code",
   "outputs": [
    {
     "data": {
      "text/plain": "tensor([[0.1679],\n        [0.1747]], grad_fn=<AddmmBackward0>)"
     },
     "execution_count": 22,
     "metadata": {},
     "output_type": "execute_result"
    }
   ],
   "source": [
    "# 我们需要给共享层一个名称，以便可以引用它的参数\n",
    "shared = nn.Linear(8, 8)\n",
    "net = nn.Sequential(nn.Linear(4, 8), \n",
    "                    nn.ReLU(),\n",
    "                    shared, \n",
    "                    nn.ReLU(),\n",
    "                    shared, \n",
    "                    nn.ReLU(),\n",
    "                    nn.Linear(8, 1))\n",
    "net(X)"
   ],
   "metadata": {
    "collapsed": false,
    "ExecuteTime": {
     "end_time": "2024-04-26T14:24:17.708221Z",
     "start_time": "2024-04-26T14:24:17.696229Z"
    }
   },
   "id": "9ee38436e7bcd527",
   "execution_count": 22
  },
  {
   "cell_type": "code",
   "outputs": [
    {
     "name": "stdout",
     "output_type": "stream",
     "text": [
      "tensor([True, True, True, True, True, True, True, True])\n"
     ]
    }
   ],
   "source": [
    "# 检查参数是否相同\n",
    "print(net[2].weight.data[0] == net[4].weight.data[0])"
   ],
   "metadata": {
    "collapsed": false,
    "ExecuteTime": {
     "end_time": "2024-04-26T14:24:28.491327Z",
     "start_time": "2024-04-26T14:24:28.485022Z"
    }
   },
   "id": "c8e09752f0d2749a",
   "execution_count": 23
  },
  {
   "cell_type": "code",
   "outputs": [
    {
     "data": {
      "text/plain": "tensor(-0.0559)"
     },
     "execution_count": 27,
     "metadata": {},
     "output_type": "execute_result"
    }
   ],
   "source": [
    "net[2].weight.data[0,0]"
   ],
   "metadata": {
    "collapsed": false,
    "ExecuteTime": {
     "end_time": "2024-04-26T14:25:07.969818Z",
     "start_time": "2024-04-26T14:25:07.964305Z"
    }
   },
   "id": "43bd85adb1abe098",
   "execution_count": 27
  },
  {
   "cell_type": "code",
   "outputs": [
    {
     "name": "stdout",
     "output_type": "stream",
     "text": [
      "tensor([True, True, True, True, True, True, True, True])\n"
     ]
    }
   ],
   "source": [
    "# 确保它们实际上是同一个对象，而不只是有相同的值\n",
    "print(net[2].weight.data[0] == net[4].weight.data[0])"
   ],
   "metadata": {
    "collapsed": false,
    "ExecuteTime": {
     "end_time": "2024-04-26T14:25:13.682937Z",
     "start_time": "2024-04-26T14:25:13.679517Z"
    }
   },
   "id": "87a5de21f4450969",
   "execution_count": 28
  },
  {
   "cell_type": "markdown",
   "source": [
    "这两层的梯度会相加在一起"
   ],
   "metadata": {
    "collapsed": false
   },
   "id": "6f74d258dd6cb45"
  },
  {
   "cell_type": "markdown",
   "source": [
    "共享参数通常可以节省内存，并在以下方面具有特定的好处：\n",
    "\n",
    "对于图像识别中的CNN，共享参数使网络能够在图像中的任何地方而不是仅在某个区域中查找给定的功能。\n",
    "对于RNN，它在序列的各个时间步之间共享参数，因此可以很好地推广到不同序列长度的示例。\n",
    "对于自动编码器，编码器和解码器共享参数。 在具有线性激活的单层自动编码器中，共享权重会在权重矩阵的不同隐藏层之间强制正交。"
   ],
   "metadata": {
    "collapsed": false
   },
   "id": "3fab2aa629520c44"
  },
  {
   "cell_type": "code",
   "outputs": [],
   "source": [],
   "metadata": {
    "collapsed": false
   },
   "id": "ccfc41d90f36405"
  }
 ],
 "metadata": {
  "kernelspec": {
   "display_name": "Python 3",
   "language": "python",
   "name": "python3"
  },
  "language_info": {
   "codemirror_mode": {
    "name": "ipython",
    "version": 2
   },
   "file_extension": ".py",
   "mimetype": "text/x-python",
   "name": "python",
   "nbconvert_exporter": "python",
   "pygments_lexer": "ipython2",
   "version": "2.7.6"
  }
 },
 "nbformat": 4,
 "nbformat_minor": 5
}
