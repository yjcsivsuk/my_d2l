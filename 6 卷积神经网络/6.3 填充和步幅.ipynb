{
 "cells": [
  {
   "cell_type": "code",
   "outputs": [
    {
     "data": {
      "text/plain": "torch.Size([8, 8])"
     },
     "execution_count": 1,
     "metadata": {},
     "output_type": "execute_result"
    }
   ],
   "source": [
    "import torch\n",
    "from torch import nn\n",
    "\n",
    "\n",
    "# 为了方便起见，我们定义了一个计算卷积层的函数。\n",
    "# 此函数初始化卷积层权重，并对输入和输出提高和缩减相应的维数\n",
    "def comp_conv2d(conv2d, X):\n",
    "    # 这里的（1，1）表示批量大小和通道数都是1\n",
    "    X = X.reshape((1, 1) + X.shape)\n",
    "    Y = conv2d(X)\n",
    "    # 省略前两个维度：批量大小和通道\n",
    "    return Y.reshape(Y.shape[2:])\n",
    "\n",
    "# 请注意，这里每边都填充了1行或1列，因此总共添加了2行或2列\n",
    "conv2d = nn.Conv2d(1, 1, kernel_size=3, padding=1)\n",
    "X = torch.rand(size=(8, 8))\n",
    "comp_conv2d(conv2d, X).shape"
   ],
   "metadata": {
    "collapsed": false,
    "ExecuteTime": {
     "end_time": "2024-04-27T11:02:28.606878Z",
     "start_time": "2024-04-27T11:02:25.724385Z"
    }
   },
   "id": "86767a44b60a7ff4",
   "execution_count": 1
  },
  {
   "cell_type": "markdown",
   "source": [
    "如果不加padding填充，则卷积后的输出大小为原来的size-卷积核大小kernal_size+1=8-3+1=6"
   ],
   "metadata": {
    "collapsed": false
   },
   "id": "561110ac468faa85"
  },
  {
   "cell_type": "code",
   "outputs": [
    {
     "data": {
      "text/plain": "torch.Size([6, 6])"
     },
     "execution_count": 2,
     "metadata": {},
     "output_type": "execute_result"
    }
   ],
   "source": [
    "conv2d_nopadding = nn.Conv2d(1, 1, kernel_size=3, padding=0)\n",
    "comp_conv2d(conv2d_nopadding, X).shape"
   ],
   "metadata": {
    "collapsed": false,
    "ExecuteTime": {
     "end_time": "2024-04-27T11:03:47.306012Z",
     "start_time": "2024-04-27T11:03:47.278832Z"
    }
   },
   "id": "51d2d244a2d2178a",
   "execution_count": 2
  },
  {
   "cell_type": "markdown",
   "source": [
    "对于不同大小的卷积核，应选择不同大小的填充"
   ],
   "metadata": {
    "collapsed": false
   },
   "id": "a19afcc91ba873fb"
  },
  {
   "cell_type": "code",
   "outputs": [
    {
     "data": {
      "text/plain": "torch.Size([8, 8])"
     },
     "execution_count": 3,
     "metadata": {},
     "output_type": "execute_result"
    }
   ],
   "source": [
    "conv2d_differentHW = nn.Conv2d(1, 1, kernel_size=(5,3), padding=(2,1))\n",
    "comp_conv2d(conv2d_differentHW, X).shape"
   ],
   "metadata": {
    "collapsed": false,
    "ExecuteTime": {
     "end_time": "2024-04-27T11:07:29.125367Z",
     "start_time": "2024-04-27T11:07:29.114460Z"
    }
   },
   "id": "6fd903c1383202c7",
   "execution_count": 3
  },
  {
   "cell_type": "markdown",
   "source": [
    "带步幅的卷积\n",
    "步幅大于1的优势在于可以快速的降低输出的维数"
   ],
   "metadata": {
    "collapsed": false
   },
   "id": "f18fcf0560ae9e4e"
  },
  {
   "cell_type": "code",
   "outputs": [
    {
     "data": {
      "text/plain": "torch.Size([4, 4])"
     },
     "execution_count": 4,
     "metadata": {},
     "output_type": "execute_result"
    }
   ],
   "source": [
    "conv2d_stride=nn.Conv2d(1,1,kernel_size=3,padding=1,stride=2)\n",
    "comp_conv2d(conv2d_stride,X).shape"
   ],
   "metadata": {
    "collapsed": false,
    "ExecuteTime": {
     "end_time": "2024-04-27T11:10:34.709043Z",
     "start_time": "2024-04-27T11:10:34.698982Z"
    }
   },
   "id": "712f507809fd438e",
   "execution_count": 4
  },
  {
   "cell_type": "code",
   "outputs": [
    {
     "data": {
      "text/plain": "torch.Size([2, 2])"
     },
     "execution_count": 5,
     "metadata": {},
     "output_type": "execute_result"
    }
   ],
   "source": [
    "con2d_differentHWandstride = nn.Conv2d(1,1,kernel_size=(3,5),padding=(0,1),stride=(3,4))\n",
    "comp_conv2d(con2d_differentHWandstride,X).shape"
   ],
   "metadata": {
    "collapsed": false,
    "ExecuteTime": {
     "end_time": "2024-04-27T11:11:59.108812Z",
     "start_time": "2024-04-27T11:11:59.098382Z"
    }
   },
   "id": "8f317859cd6a4af5",
   "execution_count": 5
  },
  {
   "cell_type": "code",
   "outputs": [],
   "source": [],
   "metadata": {
    "collapsed": false
   },
   "id": "1929a55b3a25dc84"
  }
 ],
 "metadata": {
  "kernelspec": {
   "display_name": "Python 3",
   "language": "python",
   "name": "python3"
  },
  "language_info": {
   "codemirror_mode": {
    "name": "ipython",
    "version": 2
   },
   "file_extension": ".py",
   "mimetype": "text/x-python",
   "name": "python",
   "nbconvert_exporter": "python",
   "pygments_lexer": "ipython2",
   "version": "2.7.6"
  }
 },
 "nbformat": 4,
 "nbformat_minor": 5
}
