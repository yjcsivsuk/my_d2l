{
 "cells": [
  {
   "cell_type": "code",
   "outputs": [],
   "source": [
    "import torch\n",
    "from d2l import torch as d2l\n",
    "\n",
    "def corr2d_multi_in(X, K):\n",
    "    # 先遍历“X”和“K”的第0个维度（通道维度），再把它们加在一起\n",
    "    return sum(d2l.corr2d(x, k) for x, k in zip(X, K))"
   ],
   "metadata": {
    "collapsed": false,
    "ExecuteTime": {
     "end_time": "2024-04-28T05:36:44.614700Z",
     "start_time": "2024-04-28T05:36:40.437176Z"
    }
   },
   "id": "6d5c9e34866dde2b",
   "execution_count": 1
  },
  {
   "cell_type": "markdown",
   "source": [
    "一般来说，输入的张量形状为C*H*W，卷积核的形状也是一样"
   ],
   "metadata": {
    "collapsed": false
   },
   "id": "46dc304d1336d528"
  },
  {
   "cell_type": "code",
   "outputs": [
    {
     "data": {
      "text/plain": "(torch.Size([2, 3, 3]), torch.Size([2, 2, 2]))"
     },
     "execution_count": 7,
     "metadata": {},
     "output_type": "execute_result"
    }
   ],
   "source": [
    "X = torch.tensor([[[0.0, 1.0, 2.0], [3.0, 4.0, 5.0], [6.0, 7.0, 8.0]],\n",
    "               [[1.0, 2.0, 3.0], [4.0, 5.0, 6.0], [7.0, 8.0, 9.0]]])\n",
    "K = torch.tensor([[[0.0, 1.0], [2.0, 3.0]], [[1.0, 2.0], [3.0, 4.0]]])\n",
    "X.shape, K.shape"
   ],
   "metadata": {
    "collapsed": false,
    "ExecuteTime": {
     "end_time": "2024-04-28T05:40:46.681022Z",
     "start_time": "2024-04-28T05:40:46.672658Z"
    }
   },
   "id": "81fcf3cb3ab4142e",
   "execution_count": 7
  },
  {
   "cell_type": "markdown",
   "source": [
    "进行卷积运算"
   ],
   "metadata": {
    "collapsed": false
   },
   "id": "714f76abd63c84e9"
  },
  {
   "cell_type": "code",
   "outputs": [
    {
     "data": {
      "text/plain": "tensor([[ 56.,  72.],\n        [104., 120.]])"
     },
     "execution_count": 3,
     "metadata": {},
     "output_type": "execute_result"
    }
   ],
   "source": [
    "corr2d_multi_in(X, K)"
   ],
   "metadata": {
    "collapsed": false,
    "ExecuteTime": {
     "end_time": "2024-04-28T05:38:36.517479Z",
     "start_time": "2024-04-28T05:38:36.500783Z"
    }
   },
   "id": "266025df53cf6961",
   "execution_count": 3
  },
  {
   "cell_type": "code",
   "outputs": [],
   "source": [
    "def corr2d_multi_in_out(X, K):\n",
    "    # 迭代“K”的第0个维度，每次都对输入“X”执行互相关运算。\n",
    "    # 最后将所有结果都叠加在一起\n",
    "    return torch.stack([corr2d_multi_in(X, k) for k in K], dim=0)"
   ],
   "metadata": {
    "collapsed": false,
    "ExecuteTime": {
     "end_time": "2024-04-28T05:39:17.505092Z",
     "start_time": "2024-04-28T05:39:17.500482Z"
    }
   },
   "id": "a2632cdc4c4fb9ee",
   "execution_count": 4
  },
  {
   "cell_type": "markdown",
   "source": [
    "将卷积核变成3通道"
   ],
   "metadata": {
    "collapsed": false
   },
   "id": "b95cca2018bbc16f"
  },
  {
   "cell_type": "code",
   "outputs": [
    {
     "data": {
      "text/plain": "(tensor([[[[0., 1.],\n           [2., 3.]],\n \n          [[1., 2.],\n           [3., 4.]]],\n \n \n         [[[1., 2.],\n           [3., 4.]],\n \n          [[2., 3.],\n           [4., 5.]]],\n \n \n         [[[2., 3.],\n           [4., 5.]],\n \n          [[3., 4.],\n           [5., 6.]]]]),\n torch.Size([3, 2, 2, 2]))"
     },
     "execution_count": 8,
     "metadata": {},
     "output_type": "execute_result"
    }
   ],
   "source": [
    "K = torch.stack((K, K + 1, K + 2), dim=0)\n",
    "K, K.shape"
   ],
   "metadata": {
    "collapsed": false,
    "ExecuteTime": {
     "end_time": "2024-04-28T05:40:48.774967Z",
     "start_time": "2024-04-28T05:40:48.768126Z"
    }
   },
   "id": "5b67700f3798f2ba",
   "execution_count": 8
  },
  {
   "cell_type": "code",
   "outputs": [
    {
     "data": {
      "text/plain": "tensor([[[ 56.,  72.],\n         [104., 120.]],\n\n        [[ 76., 100.],\n         [148., 172.]],\n\n        [[ 96., 128.],\n         [192., 224.]]])"
     },
     "execution_count": 9,
     "metadata": {},
     "output_type": "execute_result"
    }
   ],
   "source": [
    "corr2d_multi_in_out(X, K)"
   ],
   "metadata": {
    "collapsed": false,
    "ExecuteTime": {
     "end_time": "2024-04-28T05:42:22.154552Z",
     "start_time": "2024-04-28T05:42:22.143424Z"
    }
   },
   "id": "352c5b6d13516995",
   "execution_count": 9
  },
  {
   "cell_type": "markdown",
   "source": [
    "1x1卷积\n",
    "1x1卷积的唯一计算发生在通道上。\n",
    "当以每像素为基础应用时，1x1卷积层相当于全连接层。\n",
    "1x1卷积层通常用于调整网络层的通道数量和控制模型复杂性。"
   ],
   "metadata": {
    "collapsed": false
   },
   "id": "6af97fefa2ac35bd"
  },
  {
   "cell_type": "code",
   "outputs": [],
   "source": [
    "def corr2d_multi_in_out_1x1(X, K):\n",
    "    c_i, h, w = X.shape\n",
    "    c_o = K.shape[0]\n",
    "    X = X.reshape((c_i, h * w))\n",
    "    K = K.reshape((c_o, c_i))\n",
    "    # 全连接层中的矩阵乘法\n",
    "    Y = torch.matmul(K, X)\n",
    "    return Y.reshape((c_o, h, w))"
   ],
   "metadata": {
    "collapsed": false,
    "ExecuteTime": {
     "end_time": "2024-04-28T05:50:53.353561Z",
     "start_time": "2024-04-28T05:50:53.347149Z"
    }
   },
   "id": "7c11c2ef05a2a4c5",
   "execution_count": 10
  },
  {
   "cell_type": "code",
   "outputs": [],
   "source": [
    "X = torch.normal(0, 1, (3, 3, 3))\n",
    "K = torch.normal(0, 1, (2, 3, 1, 1))\n",
    "\n",
    "Y1 = corr2d_multi_in_out_1x1(X, K)\n",
    "Y2 = corr2d_multi_in_out(X, K)\n",
    "assert float(torch.abs(Y1 - Y2).sum()) < 1e-6"
   ],
   "metadata": {
    "collapsed": false,
    "ExecuteTime": {
     "end_time": "2024-04-28T05:51:10.033984Z",
     "start_time": "2024-04-28T05:51:10.027036Z"
    }
   },
   "id": "1d3f9f5fd9be5372",
   "execution_count": 13
  },
  {
   "cell_type": "code",
   "outputs": [
    {
     "data": {
      "text/plain": "tensor([[[ True,  True, False],\n         [False,  True,  True],\n         [ True, False, False]],\n\n        [[ True, False,  True],\n         [ True,  True, False],\n         [False, False,  True]]])"
     },
     "execution_count": 15,
     "metadata": {},
     "output_type": "execute_result"
    }
   ],
   "source": [
    "Y1==Y2"
   ],
   "metadata": {
    "collapsed": false,
    "ExecuteTime": {
     "end_time": "2024-04-28T05:51:38.665819Z",
     "start_time": "2024-04-28T05:51:38.660484Z"
    }
   },
   "id": "203a18bc15d30ccd",
   "execution_count": 15
  },
  {
   "cell_type": "code",
   "outputs": [],
   "source": [],
   "metadata": {
    "collapsed": false
   },
   "id": "e455405723e50eb7"
  }
 ],
 "metadata": {
  "kernelspec": {
   "display_name": "Python 3",
   "language": "python",
   "name": "python3"
  },
  "language_info": {
   "codemirror_mode": {
    "name": "ipython",
    "version": 2
   },
   "file_extension": ".py",
   "mimetype": "text/x-python",
   "name": "python",
   "nbconvert_exporter": "python",
   "pygments_lexer": "ipython2",
   "version": "2.7.6"
  }
 },
 "nbformat": 4,
 "nbformat_minor": 5
}
