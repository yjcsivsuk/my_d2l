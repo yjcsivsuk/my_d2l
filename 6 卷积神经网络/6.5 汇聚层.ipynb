{
 "cells": [
  {
   "cell_type": "code",
   "execution_count": 17,
   "id": "initial_id",
   "metadata": {
    "collapsed": true,
    "ExecuteTime": {
     "end_time": "2024-04-28T06:17:00.932812Z",
     "start_time": "2024-04-28T06:17:00.926642Z"
    }
   },
   "outputs": [],
   "source": [
    "import torch\n",
    "from torch import nn\n",
    "from d2l import torch as d2l\n",
    "\n",
    "def pool2d(X, pool_size, mode='max'):\n",
    "    p_h, p_w = pool_size\n",
    "    Y = torch.zeros((X.shape[0] - p_h + 1, X.shape[1] - p_w + 1))\n",
    "    for i in range(Y.shape[0]):\n",
    "        for j in range(Y.shape[1]):\n",
    "            if mode == 'max':\n",
    "                Y[i, j] = X[i: i + p_h, j: j + p_w].max()\n",
    "            elif mode == 'avg':\n",
    "                Y[i, j] = X[i: i + p_h, j: j + p_w].mean()\n",
    "    return Y"
   ]
  },
  {
   "cell_type": "markdown",
   "source": [
    "最大池化"
   ],
   "metadata": {
    "collapsed": false
   },
   "id": "9f17084dadb581c6"
  },
  {
   "cell_type": "code",
   "outputs": [
    {
     "data": {
      "text/plain": "tensor([[4., 5.],\n        [7., 8.]])"
     },
     "execution_count": 18,
     "metadata": {},
     "output_type": "execute_result"
    }
   ],
   "source": [
    "X = torch.tensor([[0.0, 1.0, 2.0], [3.0, 4.0, 5.0], [6.0, 7.0, 8.0]])\n",
    "pool2d(X, (2, 2))"
   ],
   "metadata": {
    "collapsed": false,
    "ExecuteTime": {
     "end_time": "2024-04-28T06:17:00.957328Z",
     "start_time": "2024-04-28T06:17:00.952171Z"
    }
   },
   "id": "cf12ac40a79ea162",
   "execution_count": 18
  },
  {
   "cell_type": "markdown",
   "source": [
    "平均池化"
   ],
   "metadata": {
    "collapsed": false
   },
   "id": "8db08a89991d8d26"
  },
  {
   "cell_type": "code",
   "outputs": [
    {
     "data": {
      "text/plain": "tensor([[2., 3.],\n        [5., 6.]])"
     },
     "execution_count": 19,
     "metadata": {},
     "output_type": "execute_result"
    }
   ],
   "source": [
    "pool2d(X, (2, 2), 'avg')"
   ],
   "metadata": {
    "collapsed": false,
    "ExecuteTime": {
     "end_time": "2024-04-28T06:17:00.966928Z",
     "start_time": "2024-04-28T06:17:00.961926Z"
    }
   },
   "id": "5fedc1c09d4cafea",
   "execution_count": 19
  },
  {
   "cell_type": "code",
   "outputs": [
    {
     "data": {
      "text/plain": "tensor([[[[ 0.,  1.,  2.,  3.],\n          [ 4.,  5.,  6.,  7.],\n          [ 8.,  9., 10., 11.],\n          [12., 13., 14., 15.]]]])"
     },
     "execution_count": 20,
     "metadata": {},
     "output_type": "execute_result"
    }
   ],
   "source": [
    "X = torch.arange(16, dtype=torch.float32).reshape((1, 1, 4, 4))\n",
    "X"
   ],
   "metadata": {
    "collapsed": false,
    "ExecuteTime": {
     "end_time": "2024-04-28T06:17:00.973100Z",
     "start_time": "2024-04-28T06:17:00.968537Z"
    }
   },
   "id": "e88fbd6ddb2d18d5",
   "execution_count": 20
  },
  {
   "cell_type": "markdown",
   "source": [
    "默认情况下，池化中的stride大小和kernel_size大小相同"
   ],
   "metadata": {
    "collapsed": false
   },
   "id": "4e07b30ce5904e63"
  },
  {
   "cell_type": "code",
   "outputs": [
    {
     "data": {
      "text/plain": "tensor([[[[10.]]]])"
     },
     "execution_count": 21,
     "metadata": {},
     "output_type": "execute_result"
    }
   ],
   "source": [
    "pool2d = nn.MaxPool2d(kernel_size=(3, 3))\n",
    "pool2d(X)"
   ],
   "metadata": {
    "collapsed": false,
    "ExecuteTime": {
     "end_time": "2024-04-28T06:17:00.979116Z",
     "start_time": "2024-04-28T06:17:00.974098Z"
    }
   },
   "id": "fc7f3d69876d086",
   "execution_count": 21
  },
  {
   "cell_type": "code",
   "outputs": [
    {
     "data": {
      "text/plain": "tensor([[[[ 5.,  7.],\n          [13., 15.]]]])"
     },
     "execution_count": 22,
     "metadata": {},
     "output_type": "execute_result"
    }
   ],
   "source": [
    "new_pool2d = nn.MaxPool2d(kernel_size=(2,3), padding=(0,1), stride=(2,3))\n",
    "new_pool2d(X)"
   ],
   "metadata": {
    "collapsed": false,
    "ExecuteTime": {
     "end_time": "2024-04-28T06:17:00.984522Z",
     "start_time": "2024-04-28T06:17:00.980858Z"
    }
   },
   "id": "d4231f55938fdc5a",
   "execution_count": 22
  },
  {
   "cell_type": "markdown",
   "source": [
    "池化层的输出通道数与输入通道数相同"
   ],
   "metadata": {
    "collapsed": false
   },
   "id": "80e0d0d8a4e567a9"
  },
  {
   "cell_type": "code",
   "outputs": [
    {
     "data": {
      "text/plain": "(tensor([[[[ 0.,  1.,  2.,  3.],\n           [ 4.,  5.,  6.,  7.],\n           [ 8.,  9., 10., 11.],\n           [12., 13., 14., 15.]],\n \n          [[ 1.,  2.,  3.,  4.],\n           [ 5.,  6.,  7.,  8.],\n           [ 9., 10., 11., 12.],\n           [13., 14., 15., 16.]]]]),\n torch.Size([1, 2, 4, 4]))"
     },
     "execution_count": 23,
     "metadata": {},
     "output_type": "execute_result"
    }
   ],
   "source": [
    "X = torch.cat((X, X + 1), dim=1)\n",
    "X, X.shape"
   ],
   "metadata": {
    "collapsed": false,
    "ExecuteTime": {
     "end_time": "2024-04-28T06:17:00.990320Z",
     "start_time": "2024-04-28T06:17:00.985532Z"
    }
   },
   "id": "73085d2737a31f49",
   "execution_count": 23
  },
  {
   "cell_type": "code",
   "outputs": [
    {
     "data": {
      "text/plain": "(tensor([[[[ 5.,  7.],\n           [13., 15.]],\n \n          [[ 6.,  8.],\n           [14., 16.]]]]),\n torch.Size([1, 2, 2, 2]))"
     },
     "execution_count": 24,
     "metadata": {},
     "output_type": "execute_result"
    }
   ],
   "source": [
    "pool2d_channel = nn.MaxPool2d(kernel_size=(3,3), padding=1, stride=2)\n",
    "pool2d_channel(X), pool2d_channel(X).shape"
   ],
   "metadata": {
    "collapsed": false,
    "ExecuteTime": {
     "end_time": "2024-04-28T06:17:00.995136Z",
     "start_time": "2024-04-28T06:17:00.991002Z"
    }
   },
   "id": "2c4a5ba97b0f5957",
   "execution_count": 24
  },
  {
   "cell_type": "code",
   "outputs": [],
   "source": [],
   "metadata": {
    "collapsed": false,
    "ExecuteTime": {
     "end_time": "2024-04-28T06:17:00.997465Z",
     "start_time": "2024-04-28T06:17:00.995904Z"
    }
   },
   "id": "452e3841d222b423",
   "execution_count": 24
  }
 ],
 "metadata": {
  "kernelspec": {
   "display_name": "Python 3",
   "language": "python",
   "name": "python3"
  },
  "language_info": {
   "codemirror_mode": {
    "name": "ipython",
    "version": 2
   },
   "file_extension": ".py",
   "mimetype": "text/x-python",
   "name": "python",
   "nbconvert_exporter": "python",
   "pygments_lexer": "ipython2",
   "version": "2.7.6"
  }
 },
 "nbformat": 4,
 "nbformat_minor": 5
}
