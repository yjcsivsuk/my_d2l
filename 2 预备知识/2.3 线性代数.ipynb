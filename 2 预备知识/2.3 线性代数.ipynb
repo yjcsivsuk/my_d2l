{
 "cells": [
  {
   "cell_type": "markdown",
   "source": [
    "列向量是向量的默认方向\n",
    "\n",
    " 向量或轴的维度被用来表示向量或轴的长度，即向量或轴的元素数量。 然而，张量的维度用来表示张量具有的轴数。 在这个意义上，张量的某个轴的维数就是这个轴的长度。"
   ],
   "metadata": {
    "collapsed": false
   },
   "id": "7fa993138d567cb0"
  },
  {
   "cell_type": "code",
   "outputs": [],
   "source": [
    "import torch"
   ],
   "metadata": {
    "collapsed": false,
    "ExecuteTime": {
     "end_time": "2024-04-21T10:59:57.693283Z",
     "start_time": "2024-04-21T10:59:57.195494Z"
    }
   },
   "id": "8d8c3961a88def0f",
   "execution_count": 1
  },
  {
   "cell_type": "code",
   "execution_count": 5,
   "id": "initial_id",
   "metadata": {
    "collapsed": true,
    "ExecuteTime": {
     "end_time": "2024-04-21T11:00:10.088423Z",
     "start_time": "2024-04-21T11:00:10.081949Z"
    }
   },
   "outputs": [
    {
     "data": {
      "text/plain": "tensor([[ 0.,  1.,  2.,  3.],\n        [ 4.,  5.,  6.,  7.],\n        [ 8.,  9., 10., 11.],\n        [12., 13., 14., 15.],\n        [16., 17., 18., 19.]])"
     },
     "execution_count": 5,
     "metadata": {},
     "output_type": "execute_result"
    }
   ],
   "source": [
    "A = torch.arange(20, dtype=torch.float32).reshape(5, 4)\n",
    "A"
   ]
  },
  {
   "cell_type": "code",
   "outputs": [
    {
     "data": {
      "text/plain": "(torch.Size([5, 4]), tensor(190.))"
     },
     "execution_count": 6,
     "metadata": {},
     "output_type": "execute_result"
    }
   ],
   "source": [
    "A.shape, A.sum()"
   ],
   "metadata": {
    "collapsed": false,
    "ExecuteTime": {
     "end_time": "2024-04-21T11:00:11.543923Z",
     "start_time": "2024-04-21T11:00:11.538263Z"
    }
   },
   "id": "37afcac1e992aa5c",
   "execution_count": 6
  },
  {
   "cell_type": "markdown",
   "source": [
    "降维求和"
   ],
   "metadata": {
    "collapsed": false
   },
   "id": "a1179a0b65a29175"
  },
  {
   "cell_type": "code",
   "outputs": [
    {
     "data": {
      "text/plain": "(tensor([40., 45., 50., 55.]), torch.Size([4]))"
     },
     "execution_count": 7,
     "metadata": {},
     "output_type": "execute_result"
    }
   ],
   "source": [
    "A_sum_axis0 = A.sum(axis=0)  # 这里的axis=0指的是将去除轴0（行），只剩列，相当于把矩阵压扁\n",
    "A_sum_axis0, A_sum_axis0.shape"
   ],
   "metadata": {
    "collapsed": false,
    "ExecuteTime": {
     "end_time": "2024-04-21T11:00:12.265232Z",
     "start_time": "2024-04-21T11:00:12.258723Z"
    }
   },
   "id": "b54a00a8f66a7565",
   "execution_count": 7
  },
  {
   "cell_type": "code",
   "outputs": [
    {
     "data": {
      "text/plain": "tensor(True)"
     },
     "execution_count": 8,
     "metadata": {},
     "output_type": "execute_result"
    }
   ],
   "source": [
    "A.sum(axis=[0,1])==A.sum()"
   ],
   "metadata": {
    "collapsed": false,
    "ExecuteTime": {
     "end_time": "2024-04-21T11:03:02.855876Z",
     "start_time": "2024-04-21T11:03:02.846145Z"
    }
   },
   "id": "af3bf732247635a1",
   "execution_count": 8
  },
  {
   "cell_type": "markdown",
   "source": [
    "非降维求和"
   ],
   "metadata": {
    "collapsed": false
   },
   "id": "30d16473f555eeb"
  },
  {
   "cell_type": "code",
   "outputs": [
    {
     "data": {
      "text/plain": "tensor([[ 6.],\n        [22.],\n        [38.],\n        [54.],\n        [70.]])"
     },
     "execution_count": 9,
     "metadata": {},
     "output_type": "execute_result"
    }
   ],
   "source": [
    "sum_A = A.sum(axis=1, keepdims=True)\n",
    "sum_A"
   ],
   "metadata": {
    "collapsed": false,
    "ExecuteTime": {
     "end_time": "2024-04-21T11:51:46.089798Z",
     "start_time": "2024-04-21T11:51:46.078911Z"
    }
   },
   "id": "d82fbd18d31a39a3",
   "execution_count": 9
  },
  {
   "cell_type": "code",
   "outputs": [
    {
     "data": {
      "text/plain": "tensor([[ 0.,  1.,  2.,  3.],\n        [ 4.,  6.,  8., 10.],\n        [12., 15., 18., 21.],\n        [24., 28., 32., 36.],\n        [40., 45., 50., 55.]])"
     },
     "execution_count": 10,
     "metadata": {},
     "output_type": "execute_result"
    }
   ],
   "source": [
    "A.cumsum(axis=0)  # 沿某个轴计算A元素的累积总和"
   ],
   "metadata": {
    "collapsed": false,
    "ExecuteTime": {
     "end_time": "2024-04-21T11:52:50.436465Z",
     "start_time": "2024-04-21T11:52:50.425047Z"
    }
   },
   "id": "4f09c903b204bae0",
   "execution_count": 10
  },
  {
   "cell_type": "markdown",
   "source": [
    "点积。等同于执行按元素乘法，然后进行求和"
   ],
   "metadata": {
    "collapsed": false
   },
   "id": "f2f75a5aee6da628"
  },
  {
   "cell_type": "code",
   "outputs": [
    {
     "data": {
      "text/plain": "(tensor([0., 1., 2., 3.]), tensor([1., 1., 1., 1.]), tensor(6.), tensor(6.))"
     },
     "execution_count": 12,
     "metadata": {},
     "output_type": "execute_result"
    }
   ],
   "source": [
    "x = torch.arange(4,dtype=torch.float32)\n",
    "y = torch.ones(4, dtype = torch.float32)\n",
    "x, y, torch.dot(x, y), torch.sum(x * y)"
   ],
   "metadata": {
    "collapsed": false,
    "ExecuteTime": {
     "end_time": "2024-04-21T11:55:27.669379Z",
     "start_time": "2024-04-21T11:55:27.657023Z"
    }
   },
   "id": "603fd4424c760383",
   "execution_count": 12
  },
  {
   "cell_type": "markdown",
   "source": [
    "矩阵-向量积"
   ],
   "metadata": {
    "collapsed": false
   },
   "id": "2f0455129986e14f"
  },
  {
   "cell_type": "code",
   "outputs": [
    {
     "data": {
      "text/plain": "(tensor([[ 0.,  1.,  2.,  3.],\n         [ 4.,  5.,  6.,  7.],\n         [ 8.,  9., 10., 11.],\n         [12., 13., 14., 15.],\n         [16., 17., 18., 19.]]),\n tensor([0., 1., 2., 3.]),\n torch.Size([5, 4]),\n torch.Size([4]),\n tensor([ 14.,  38.,  62.,  86., 110.]))"
     },
     "execution_count": 14,
     "metadata": {},
     "output_type": "execute_result"
    }
   ],
   "source": [
    "A, x, A.shape, x.shape, torch.mv(A, x)"
   ],
   "metadata": {
    "collapsed": false,
    "ExecuteTime": {
     "end_time": "2024-04-21T11:58:28.843139Z",
     "start_time": "2024-04-21T11:58:28.836871Z"
    }
   },
   "id": "6725c3897264c364",
   "execution_count": 14
  },
  {
   "cell_type": "markdown",
   "source": [
    "矩阵乘法"
   ],
   "metadata": {
    "collapsed": false
   },
   "id": "b9ef43672ec02947"
  },
  {
   "cell_type": "code",
   "outputs": [
    {
     "data": {
      "text/plain": "tensor([[ 6.,  6.,  6.],\n        [22., 22., 22.],\n        [38., 38., 38.],\n        [54., 54., 54.],\n        [70., 70., 70.]])"
     },
     "execution_count": 15,
     "metadata": {},
     "output_type": "execute_result"
    }
   ],
   "source": [
    "B = torch.ones(4, 3)\n",
    "torch.mm(A, B)"
   ],
   "metadata": {
    "collapsed": false,
    "ExecuteTime": {
     "end_time": "2024-04-21T12:01:13.093715Z",
     "start_time": "2024-04-21T12:01:13.082422Z"
    }
   },
   "id": "573d407896c29d88",
   "execution_count": 15
  },
  {
   "cell_type": "markdown",
   "source": [
    "范数。非正式地说，向量的范数是表示一个向量有多大。 这里考虑的大小（size）概念不涉及维度，而是分量的大小。"
   ],
   "metadata": {
    "collapsed": false
   },
   "id": "ece4e39b05b0ec19"
  },
  {
   "cell_type": "code",
   "outputs": [
    {
     "data": {
      "text/plain": "(tensor(5.), tensor(7.))"
     },
     "execution_count": 17,
     "metadata": {},
     "output_type": "execute_result"
    }
   ],
   "source": [
    "u = torch.tensor([3.0, -4.0])\n",
    "torch.norm(u), torch.abs(u).sum()  # L2范数和L1范数"
   ],
   "metadata": {
    "collapsed": false,
    "ExecuteTime": {
     "end_time": "2024-04-21T12:03:51.179767Z",
     "start_time": "2024-04-21T12:03:51.172840Z"
    }
   },
   "id": "bd0b6ff391a189f3",
   "execution_count": 17
  },
  {
   "cell_type": "markdown",
   "source": [
    "Frobenius范数"
   ],
   "metadata": {
    "collapsed": false
   },
   "id": "849f7d26cd46de8b"
  },
  {
   "cell_type": "code",
   "outputs": [
    {
     "data": {
      "text/plain": "tensor(6.)"
     },
     "execution_count": 18,
     "metadata": {},
     "output_type": "execute_result"
    }
   ],
   "source": [
    "torch.norm(torch.ones((4, 9)))"
   ],
   "metadata": {
    "collapsed": false,
    "ExecuteTime": {
     "end_time": "2024-04-21T12:04:29.250148Z",
     "start_time": "2024-04-21T12:04:29.241851Z"
    }
   },
   "id": "c5988480a216992b",
   "execution_count": 18
  },
  {
   "cell_type": "code",
   "outputs": [
    {
     "data": {
      "text/plain": "3"
     },
     "execution_count": 20,
     "metadata": {},
     "output_type": "execute_result"
    }
   ],
   "source": [
    "len(torch.arange(24).reshape(3,2,4))"
   ],
   "metadata": {
    "collapsed": false,
    "ExecuteTime": {
     "end_time": "2024-04-21T12:06:34.808633Z",
     "start_time": "2024-04-21T12:06:34.804497Z"
    }
   },
   "id": "6ccf34937023c8ce",
   "execution_count": 20
  },
  {
   "cell_type": "code",
   "outputs": [
    {
     "data": {
      "text/plain": "(tensor([[ 0.,  1.,  2.,  3.],\n         [ 4.,  5.,  6.,  7.],\n         [ 8.,  9., 10., 11.],\n         [12., 13., 14., 15.],\n         [16., 17., 18., 19.]]),\n tensor([[ 6.],\n         [22.],\n         [38.],\n         [54.],\n         [70.]]),\n tensor([[0.0000, 0.1667, 0.3333, 0.5000],\n         [0.1818, 0.2273, 0.2727, 0.3182],\n         [0.2105, 0.2368, 0.2632, 0.2895],\n         [0.2222, 0.2407, 0.2593, 0.2778],\n         [0.2286, 0.2429, 0.2571, 0.2714]]))"
     },
     "execution_count": 28,
     "metadata": {},
     "output_type": "execute_result"
    }
   ],
   "source": [
    "A, A.sum(axis=1,keepdims=True), A/A.sum(axis=1,keepdims=True)"
   ],
   "metadata": {
    "collapsed": false,
    "ExecuteTime": {
     "end_time": "2024-04-21T12:11:49.194008Z",
     "start_time": "2024-04-21T12:11:49.184606Z"
    }
   },
   "id": "ebc46e58bac9904c",
   "execution_count": 28
  },
  {
   "cell_type": "code",
   "outputs": [
    {
     "data": {
      "text/plain": "(tensor([[[ 0,  1,  2,  3],\n          [ 4,  5,  6,  7],\n          [ 8,  9, 10, 11]],\n \n         [[12, 13, 14, 15],\n          [16, 17, 18, 19],\n          [20, 21, 22, 23]]]),\n tensor([[12, 14, 16, 18],\n         [20, 22, 24, 26],\n         [28, 30, 32, 34]]),\n tensor([[12, 15, 18, 21],\n         [48, 51, 54, 57]]),\n tensor([[ 6, 22, 38],\n         [54, 70, 86]]))"
     },
     "execution_count": 26,
     "metadata": {},
     "output_type": "execute_result"
    }
   ],
   "source": [
    "M = torch.arange(24).reshape(2,3,4)\n",
    "M, M.sum(axis=0), M.sum(axis=1), M.sum(axis=2)"
   ],
   "metadata": {
    "collapsed": false,
    "ExecuteTime": {
     "end_time": "2024-04-21T12:09:21.539158Z",
     "start_time": "2024-04-21T12:09:21.534698Z"
    }
   },
   "id": "5330e5f5d5e07b74",
   "execution_count": 26
  },
  {
   "cell_type": "code",
   "outputs": [],
   "source": [],
   "metadata": {
    "collapsed": false
   },
   "id": "a09ada4ad4ebd3a"
  }
 ],
 "metadata": {
  "kernelspec": {
   "display_name": "Python 3",
   "language": "python",
   "name": "python3"
  },
  "language_info": {
   "codemirror_mode": {
    "name": "ipython",
    "version": 2
   },
   "file_extension": ".py",
   "mimetype": "text/x-python",
   "name": "python",
   "nbconvert_exporter": "python",
   "pygments_lexer": "ipython2",
   "version": "2.7.6"
  }
 },
 "nbformat": 4,
 "nbformat_minor": 5
}
