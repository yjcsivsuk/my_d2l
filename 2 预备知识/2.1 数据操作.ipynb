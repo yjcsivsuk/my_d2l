{
 "cells": [
  {
   "cell_type": "code",
   "execution_count": 1,
   "id": "initial_id",
   "metadata": {
    "collapsed": true,
    "ExecuteTime": {
     "end_time": "2024-04-21T10:00:11.950720Z",
     "start_time": "2024-04-21T10:00:11.254071Z"
    }
   },
   "outputs": [],
   "source": [
    "import torch"
   ]
  },
  {
   "cell_type": "code",
   "outputs": [
    {
     "data": {
      "text/plain": "tensor([0, 1, 2, 3, 4, 5, 6, 7, 8, 9])"
     },
     "execution_count": 4,
     "metadata": {},
     "output_type": "execute_result"
    }
   ],
   "source": [
    "x=torch.arange(10)\n",
    "x"
   ],
   "metadata": {
    "collapsed": false,
    "ExecuteTime": {
     "end_time": "2024-04-21T10:00:24.596058Z",
     "start_time": "2024-04-21T10:00:24.590189Z"
    }
   },
   "id": "421df7d35d19e652",
   "execution_count": 4
  },
  {
   "cell_type": "markdown",
   "source": [
    "numel()方法返回tensor中元素的总数"
   ],
   "metadata": {
    "collapsed": false
   },
   "id": "746f777c0f452232"
  },
  {
   "cell_type": "code",
   "outputs": [
    {
     "data": {
      "text/plain": "10"
     },
     "execution_count": 3,
     "metadata": {},
     "output_type": "execute_result"
    }
   ],
   "source": [
    "x.numel()"
   ],
   "metadata": {
    "collapsed": false,
    "ExecuteTime": {
     "end_time": "2024-04-21T10:00:17.190078Z",
     "start_time": "2024-04-21T10:00:17.183267Z"
    }
   },
   "id": "e91ac95fd8db047b",
   "execution_count": 3
  },
  {
   "cell_type": "markdown",
   "source": [
    "torch.randn()是在正态分布中的随机采样"
   ],
   "metadata": {
    "collapsed": false
   },
   "id": "4546d9297badae40"
  },
  {
   "cell_type": "code",
   "outputs": [
    {
     "data": {
      "text/plain": "tensor([[-0.2079, -0.0195, -0.4151, -0.8967],\n        [-0.4731,  2.9884,  0.0722,  0.8519],\n        [-0.4204, -0.7754, -0.3399, -0.0309]])"
     },
     "execution_count": 5,
     "metadata": {},
     "output_type": "execute_result"
    }
   ],
   "source": [
    "torch.randn(3,4)"
   ],
   "metadata": {
    "collapsed": false,
    "ExecuteTime": {
     "end_time": "2024-04-21T10:01:41.512298Z",
     "start_time": "2024-04-21T10:01:41.485599Z"
    }
   },
   "id": "8121e1bfeab63d79",
   "execution_count": 5
  },
  {
   "cell_type": "markdown",
   "source": [
    "多个tensor连接到一起。dim=0就是按照shape中的第一个元素连接；dim=1就是按照shape中的第二个元素连接"
   ],
   "metadata": {
    "collapsed": false
   },
   "id": "dd4797e7f338dc55"
  },
  {
   "cell_type": "code",
   "outputs": [
    {
     "data": {
      "text/plain": "(tensor([[ 0.,  1.,  2.,  3.],\n         [ 4.,  5.,  6.,  7.],\n         [ 8.,  9., 10., 11.],\n         [ 2.,  1.,  4.,  3.],\n         [ 1.,  2.,  3.,  4.],\n         [ 4.,  3.,  2.,  1.]]),\n tensor([[ 0.,  1.,  2.,  3.,  2.,  1.,  4.,  3.],\n         [ 4.,  5.,  6.,  7.,  1.,  2.,  3.,  4.],\n         [ 8.,  9., 10., 11.,  4.,  3.,  2.,  1.]]))"
     },
     "execution_count": 15,
     "metadata": {},
     "output_type": "execute_result"
    }
   ],
   "source": [
    "X = torch.arange(12, dtype=torch.float32).reshape((3,4))\n",
    "Y = torch.tensor([[2.0, 1, 4, 3], [1, 2, 3, 4], [4, 3, 2, 1]])\n",
    "torch.cat((X, Y), dim=0), torch.cat((X, Y), dim=1)"
   ],
   "metadata": {
    "collapsed": false,
    "ExecuteTime": {
     "end_time": "2024-04-21T10:16:28.730454Z",
     "start_time": "2024-04-21T10:16:28.721635Z"
    }
   },
   "id": "e8b558d59e918914",
   "execution_count": 15
  },
  {
   "cell_type": "code",
   "outputs": [
    {
     "data": {
      "text/plain": "(tensor([[ 0.,  1.,  2.,  3.],\n         [ 4.,  5.,  6.,  7.],\n         [ 8.,  9., 10., 11.]]),\n tensor([[2., 1., 4., 3.],\n         [1., 2., 3., 4.],\n         [4., 3., 2., 1.]]),\n tensor([[False, False, False, False],\n         [ True,  True,  True,  True],\n         [ True,  True,  True,  True]]))"
     },
     "execution_count": 16,
     "metadata": {},
     "output_type": "execute_result"
    }
   ],
   "source": [
    "X, Y, X > Y"
   ],
   "metadata": {
    "collapsed": false,
    "ExecuteTime": {
     "end_time": "2024-04-21T10:16:30.001661Z",
     "start_time": "2024-04-21T10:16:29.995358Z"
    }
   },
   "id": "74bb6632789f10ca",
   "execution_count": 16
  },
  {
   "cell_type": "markdown",
   "source": [
    "广播机制（两维）"
   ],
   "metadata": {
    "collapsed": false
   },
   "id": "10e74ff23698e6c1"
  },
  {
   "cell_type": "code",
   "outputs": [
    {
     "data": {
      "text/plain": "(tensor([[0],\n         [1],\n         [2]]),\n tensor([[0, 1]]))"
     },
     "execution_count": 31,
     "metadata": {},
     "output_type": "execute_result"
    }
   ],
   "source": [
    "a = torch.arange(3).reshape(3, 1)\n",
    "b = torch.arange(2).reshape(1, 2)\n",
    "a, b"
   ],
   "metadata": {
    "collapsed": false,
    "ExecuteTime": {
     "end_time": "2024-04-21T10:21:45.464155Z",
     "start_time": "2024-04-21T10:21:45.454248Z"
    }
   },
   "id": "135a14e1b9d67b14",
   "execution_count": 31
  },
  {
   "cell_type": "code",
   "outputs": [
    {
     "data": {
      "text/plain": "tensor([[0, 1],\n        [1, 2],\n        [2, 3]])"
     },
     "execution_count": 32,
     "metadata": {},
     "output_type": "execute_result"
    }
   ],
   "source": [
    "a + b"
   ],
   "metadata": {
    "collapsed": false,
    "ExecuteTime": {
     "end_time": "2024-04-21T10:21:46.031583Z",
     "start_time": "2024-04-21T10:21:46.027424Z"
    }
   },
   "id": "df2e05c725a6922d",
   "execution_count": 32
  },
  {
   "cell_type": "markdown",
   "source": [
    "多维广播机制（没看懂）"
   ],
   "metadata": {
    "collapsed": false
   },
   "id": "fe5cff0d350c05f4"
  },
  {
   "cell_type": "code",
   "outputs": [
    {
     "data": {
      "text/plain": "(tensor([[[0, 1, 2],\n          [3, 4, 5]]]),\n tensor([[[0, 1, 2]],\n \n         [[3, 4, 5]]]))"
     },
     "execution_count": 37,
     "metadata": {},
     "output_type": "execute_result"
    }
   ],
   "source": [
    "a = torch.arange(6).reshape(1, 2, 3)\n",
    "b = torch.arange(6).reshape(2, 1, 3)\n",
    "a, b"
   ],
   "metadata": {
    "collapsed": false,
    "ExecuteTime": {
     "end_time": "2024-04-21T10:23:45.533033Z",
     "start_time": "2024-04-21T10:23:45.525961Z"
    }
   },
   "id": "51f3feac1e95ea1f",
   "execution_count": 37
  },
  {
   "cell_type": "code",
   "outputs": [
    {
     "data": {
      "text/plain": "tensor([[[ 0,  2,  4],\n         [ 3,  5,  7]],\n\n        [[ 3,  5,  7],\n         [ 6,  8, 10]]])"
     },
     "execution_count": 38,
     "metadata": {},
     "output_type": "execute_result"
    }
   ],
   "source": [
    "a + b"
   ],
   "metadata": {
    "collapsed": false,
    "ExecuteTime": {
     "end_time": "2024-04-21T10:23:48.472982Z",
     "start_time": "2024-04-21T10:23:48.466529Z"
    }
   },
   "id": "6f22fb7b9fbcf7cf",
   "execution_count": 38
  },
  {
   "cell_type": "markdown",
   "source": [
    "为多个元素赋同样的值"
   ],
   "metadata": {
    "collapsed": false
   },
   "id": "31bde29638bc25a9"
  },
  {
   "cell_type": "code",
   "outputs": [
    {
     "data": {
      "text/plain": "tensor([[12., 12., 12., 12.],\n        [12., 12., 12., 12.],\n        [ 8.,  9., 10., 11.]])"
     },
     "execution_count": 7,
     "metadata": {},
     "output_type": "execute_result"
    }
   ],
   "source": [
    "X[0:2, :] = 12\n",
    "X"
   ],
   "metadata": {
    "collapsed": false,
    "ExecuteTime": {
     "end_time": "2024-04-21T10:08:53.365839Z",
     "start_time": "2024-04-21T10:08:53.355141Z"
    }
   },
   "id": "bb7916bc479716a1",
   "execution_count": 7
  },
  {
   "cell_type": "markdown",
   "source": [
    "X=X+Y和X+=Y不同：第二个是原地操作"
   ],
   "metadata": {
    "collapsed": false
   },
   "id": "364623c1747bf133"
  },
  {
   "cell_type": "code",
   "outputs": [
    {
     "data": {
      "text/plain": "False"
     },
     "execution_count": 8,
     "metadata": {},
     "output_type": "execute_result"
    }
   ],
   "source": [
    "before = id(X)\n",
    "X = X + Y\n",
    "id(X) == before"
   ],
   "metadata": {
    "collapsed": false,
    "ExecuteTime": {
     "end_time": "2024-04-21T10:11:21.689712Z",
     "start_time": "2024-04-21T10:11:21.678326Z"
    }
   },
   "id": "6a02e5536cb4d0ea",
   "execution_count": 8
  },
  {
   "cell_type": "code",
   "outputs": [
    {
     "data": {
      "text/plain": "True"
     },
     "execution_count": 9,
     "metadata": {},
     "output_type": "execute_result"
    }
   ],
   "source": [
    "before = id(X)\n",
    "X += Y\n",
    "id(X) == before"
   ],
   "metadata": {
    "collapsed": false,
    "ExecuteTime": {
     "end_time": "2024-04-21T10:11:22.545937Z",
     "start_time": "2024-04-21T10:11:22.541964Z"
    }
   },
   "id": "a55eff36108fae30",
   "execution_count": 9
  },
  {
   "cell_type": "markdown",
   "source": [
    "item()函数返回的是一个标量"
   ],
   "metadata": {
    "collapsed": false
   },
   "id": "12e46ca78a4803cd"
  },
  {
   "cell_type": "code",
   "outputs": [
    {
     "data": {
      "text/plain": "(tensor([3.5000]), 3.5)"
     },
     "execution_count": 10,
     "metadata": {},
     "output_type": "execute_result"
    }
   ],
   "source": [
    "a = torch.tensor([3.5])\n",
    "a, a.item()"
   ],
   "metadata": {
    "collapsed": false,
    "ExecuteTime": {
     "end_time": "2024-04-21T10:12:53.313385Z",
     "start_time": "2024-04-21T10:12:53.302868Z"
    }
   },
   "id": "a825e1f6feb26ded",
   "execution_count": 10
  },
  {
   "cell_type": "code",
   "outputs": [
    {
     "data": {
      "text/plain": "tensor([[[[ 0,  1,  2,  3],\n          [ 4,  5,  6,  7],\n          [ 8,  9, 10, 11]],\n\n         [[12, 13, 14, 15],\n          [16, 17, 18, 19],\n          [20, 21, 22, 23]]],\n\n\n        [[[24, 25, 26, 27],\n          [28, 29, 30, 31],\n          [32, 33, 34, 35]],\n\n         [[36, 37, 38, 39],\n          [40, 41, 42, 43],\n          [44, 45, 46, 47]]]])"
     },
     "execution_count": 41,
     "metadata": {},
     "output_type": "execute_result"
    }
   ],
   "source": [
    "torch.arange(48).reshape(2,2,3,4)"
   ],
   "metadata": {
    "collapsed": false,
    "ExecuteTime": {
     "end_time": "2024-04-21T10:26:24.082584Z",
     "start_time": "2024-04-21T10:26:24.076363Z"
    }
   },
   "id": "24c4d0b99436c883",
   "execution_count": 41
  },
  {
   "cell_type": "code",
   "outputs": [],
   "source": [],
   "metadata": {
    "collapsed": false
   },
   "id": "67a0ddd7ee76b974"
  }
 ],
 "metadata": {
  "kernelspec": {
   "display_name": "Python 3",
   "language": "python",
   "name": "python3"
  },
  "language_info": {
   "codemirror_mode": {
    "name": "ipython",
    "version": 2
   },
   "file_extension": ".py",
   "mimetype": "text/x-python",
   "name": "python",
   "nbconvert_exporter": "python",
   "pygments_lexer": "ipython2",
   "version": "2.7.6"
  }
 },
 "nbformat": 4,
 "nbformat_minor": 5
}
