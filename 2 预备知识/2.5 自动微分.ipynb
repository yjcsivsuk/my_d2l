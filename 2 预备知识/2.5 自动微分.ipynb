{
 "cells": [
  {
   "cell_type": "markdown",
   "source": [
    "非标量变量的反向传播，需要先将非标量进行一次sum求和操作，再进行backward反向传播"
   ],
   "metadata": {
    "collapsed": false
   },
   "id": "3f995a4f30c9a817"
  },
  {
   "cell_type": "code",
   "execution_count": 16,
   "id": "initial_id",
   "metadata": {
    "collapsed": true,
    "ExecuteTime": {
     "end_time": "2024-04-21T12:31:24.052743Z",
     "start_time": "2024-04-21T12:31:24.045421Z"
    }
   },
   "outputs": [],
   "source": [
    "import torch"
   ]
  },
  {
   "cell_type": "code",
   "outputs": [
    {
     "data": {
      "text/plain": "tensor([0., 1., 2., 3.], requires_grad=True)"
     },
     "execution_count": 19,
     "metadata": {},
     "output_type": "execute_result"
    }
   ],
   "source": [
    "x=torch.arange(4.0,requires_grad=True)\n",
    "x"
   ],
   "metadata": {
    "collapsed": false,
    "ExecuteTime": {
     "end_time": "2024-04-21T12:31:51.690388Z",
     "start_time": "2024-04-21T12:31:51.683765Z"
    }
   },
   "id": "ce86aa11ae1aeb11",
   "execution_count": 19
  },
  {
   "cell_type": "code",
   "outputs": [
    {
     "data": {
      "text/plain": "(tensor([0., 2., 4., 6.]),\n tensor([0., 1., 4., 9.], grad_fn=<MulBackward0>),\n tensor(14., grad_fn=<SumBackward0>))"
     },
     "execution_count": 29,
     "metadata": {},
     "output_type": "execute_result"
    }
   ],
   "source": [
    "# 对非标量调用backward需要传入一个gradient参数，该参数指定微分函数关于self的梯度。\n",
    "# 本例只想求偏导数的和，所以传递一个1的梯度是合适的\n",
    "x.grad.zero_()\n",
    "y = x * x\n",
    "# 等价于y.backward(torch.ones(len(x)))\n",
    "y.sum().backward()\n",
    "x.grad,y,y.sum()"
   ],
   "metadata": {
    "collapsed": false,
    "ExecuteTime": {
     "end_time": "2024-04-21T12:38:50.827644Z",
     "start_time": "2024-04-21T12:38:50.819813Z"
    }
   },
   "id": "505510d211471e53",
   "execution_count": 29
  },
  {
   "cell_type": "markdown",
   "source": [
    "分离计算"
   ],
   "metadata": {
    "collapsed": false
   },
   "id": "1fb8544c154f1dbf"
  },
  {
   "cell_type": "code",
   "outputs": [
    {
     "data": {
      "text/plain": "(tensor([0., 1., 4., 9.]), tensor([0., 1., 4., 9.]))"
     },
     "execution_count": 33,
     "metadata": {},
     "output_type": "execute_result"
    }
   ],
   "source": [
    "x.grad.zero_()\n",
    "y = x * x\n",
    "u = y.detach()  # 这里的u被detach出去之后就当作常数来看，即u=x²\n",
    "z = u * x\n",
    "\n",
    "z.sum().backward()\n",
    "x.grad,u"
   ],
   "metadata": {
    "collapsed": false,
    "ExecuteTime": {
     "end_time": "2024-04-21T12:40:07.275543Z",
     "start_time": "2024-04-21T12:40:07.268881Z"
    }
   },
   "id": "8c062d60659d7136",
   "execution_count": 33
  },
  {
   "cell_type": "code",
   "outputs": [
    {
     "data": {
      "text/plain": "tensor([0., 2., 4., 6.])"
     },
     "execution_count": 34,
     "metadata": {},
     "output_type": "execute_result"
    }
   ],
   "source": [
    "x.grad.zero_()\n",
    "y.sum().backward()  # y是刚刚保留的,y=x²\n",
    "x.grad"
   ],
   "metadata": {
    "collapsed": false,
    "ExecuteTime": {
     "end_time": "2024-04-21T12:40:08.067998Z",
     "start_time": "2024-04-21T12:40:08.061544Z"
    }
   },
   "id": "e676b7c435e54f31",
   "execution_count": 34
  },
  {
   "cell_type": "markdown",
   "source": [
    "Python控制流的梯度计算"
   ],
   "metadata": {
    "collapsed": false
   },
   "id": "e68f4c6d1023b292"
  },
  {
   "cell_type": "code",
   "outputs": [],
   "source": [
    "def f(a):\n",
    "    b = a * 2\n",
    "    while b.norm() < 10:\n",
    "        b = b * 2\n",
    "    if b.sum() > 0:\n",
    "        c = b\n",
    "    else:\n",
    "        c = 100 * b\n",
    "    return c"
   ],
   "metadata": {
    "collapsed": false,
    "ExecuteTime": {
     "end_time": "2024-04-21T12:46:18.077851Z",
     "start_time": "2024-04-21T12:46:18.072699Z"
    }
   },
   "id": "101ff9e9aea94001",
   "execution_count": 43
  },
  {
   "cell_type": "code",
   "outputs": [
    {
     "data": {
      "text/plain": "(tensor([1.], requires_grad=True), tensor([16.], grad_fn=<MulBackward0>))"
     },
     "execution_count": 44,
     "metadata": {},
     "output_type": "execute_result"
    }
   ],
   "source": [
    "# a = torch.randn(size=(), requires_grad=True)\n",
    "a = torch.ones(1, requires_grad=True)\n",
    "d = f(a)\n",
    "d.backward()\n",
    "a, d"
   ],
   "metadata": {
    "collapsed": false,
    "ExecuteTime": {
     "end_time": "2024-04-21T12:46:18.855270Z",
     "start_time": "2024-04-21T12:46:18.847451Z"
    }
   },
   "id": "d8d928585517015f",
   "execution_count": 44
  },
  {
   "cell_type": "code",
   "outputs": [
    {
     "data": {
      "text/plain": "(tensor([16.]), tensor([True]))"
     },
     "execution_count": 45,
     "metadata": {},
     "output_type": "execute_result"
    }
   ],
   "source": [
    "a.grad, a.grad == d / a"
   ],
   "metadata": {
    "collapsed": false,
    "ExecuteTime": {
     "end_time": "2024-04-21T12:47:03.274400Z",
     "start_time": "2024-04-21T12:47:03.264847Z"
    }
   },
   "id": "95429fad59c46d74",
   "execution_count": 45
  },
  {
   "cell_type": "code",
   "outputs": [],
   "source": [],
   "metadata": {
    "collapsed": false
   },
   "id": "91bce7d2897fc00"
  }
 ],
 "metadata": {
  "kernelspec": {
   "display_name": "Python 3",
   "language": "python",
   "name": "python3"
  },
  "language_info": {
   "codemirror_mode": {
    "name": "ipython",
    "version": 2
   },
   "file_extension": ".py",
   "mimetype": "text/x-python",
   "name": "python",
   "nbconvert_exporter": "python",
   "pygments_lexer": "ipython2",
   "version": "2.7.6"
  }
 },
 "nbformat": 4,
 "nbformat_minor": 5
}
