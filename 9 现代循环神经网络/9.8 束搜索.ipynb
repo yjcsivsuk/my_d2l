{
 "cells": [
  {
   "cell_type": "markdown",
   "source": [
    "1.序列搜索策略包括贪心搜索、穷举搜索和束搜索。\n",
    "2.贪心搜索所选取序列的计算量最小，但精度相对较低。\n",
    "3.穷举搜索所选取序列的精度最高，但计算量最大。\n",
    "4.束搜索通过灵活选择束宽，在正确率和计算代价之间进行权衡。"
   ],
   "metadata": {
    "collapsed": false
   },
   "id": "e04a89ef63178ea"
  },
  {
   "cell_type": "code",
   "outputs": [],
   "source": [],
   "metadata": {
    "collapsed": false
   },
   "id": "f586e06de4e4583b"
  }
 ],
 "metadata": {
  "kernelspec": {
   "display_name": "Python 3",
   "language": "python",
   "name": "python3"
  },
  "language_info": {
   "codemirror_mode": {
    "name": "ipython",
    "version": 2
   },
   "file_extension": ".py",
   "mimetype": "text/x-python",
   "name": "python",
   "nbconvert_exporter": "python",
   "pygments_lexer": "ipython2",
   "version": "2.7.6"
  }
 },
 "nbformat": 4,
 "nbformat_minor": 5
}
